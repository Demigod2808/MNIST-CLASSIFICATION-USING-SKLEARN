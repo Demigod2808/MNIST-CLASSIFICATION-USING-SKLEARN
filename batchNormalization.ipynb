{
 "cells": [
  {
   "cell_type": "code",
   "execution_count": 1,
   "metadata": {},
   "outputs": [
    {
     "name": "stderr",
     "output_type": "stream",
     "text": [
      "c:\\users\\shubh\\appdata\\local\\programs\\python\\python37\\lib\\site-packages\\tensorflow\\python\\framework\\dtypes.py:516: FutureWarning: Passing (type, 1) or '1type' as a synonym of type is deprecated; in a future version of numpy, it will be understood as (type, (1,)) / '(1,)type'.\n",
      "  _np_qint8 = np.dtype([(\"qint8\", np.int8, 1)])\n",
      "c:\\users\\shubh\\appdata\\local\\programs\\python\\python37\\lib\\site-packages\\tensorflow\\python\\framework\\dtypes.py:517: FutureWarning: Passing (type, 1) or '1type' as a synonym of type is deprecated; in a future version of numpy, it will be understood as (type, (1,)) / '(1,)type'.\n",
      "  _np_quint8 = np.dtype([(\"quint8\", np.uint8, 1)])\n",
      "c:\\users\\shubh\\appdata\\local\\programs\\python\\python37\\lib\\site-packages\\tensorflow\\python\\framework\\dtypes.py:518: FutureWarning: Passing (type, 1) or '1type' as a synonym of type is deprecated; in a future version of numpy, it will be understood as (type, (1,)) / '(1,)type'.\n",
      "  _np_qint16 = np.dtype([(\"qint16\", np.int16, 1)])\n",
      "c:\\users\\shubh\\appdata\\local\\programs\\python\\python37\\lib\\site-packages\\tensorflow\\python\\framework\\dtypes.py:519: FutureWarning: Passing (type, 1) or '1type' as a synonym of type is deprecated; in a future version of numpy, it will be understood as (type, (1,)) / '(1,)type'.\n",
      "  _np_quint16 = np.dtype([(\"quint16\", np.uint16, 1)])\n",
      "c:\\users\\shubh\\appdata\\local\\programs\\python\\python37\\lib\\site-packages\\tensorflow\\python\\framework\\dtypes.py:520: FutureWarning: Passing (type, 1) or '1type' as a synonym of type is deprecated; in a future version of numpy, it will be understood as (type, (1,)) / '(1,)type'.\n",
      "  _np_qint32 = np.dtype([(\"qint32\", np.int32, 1)])\n",
      "c:\\users\\shubh\\appdata\\local\\programs\\python\\python37\\lib\\site-packages\\tensorflow\\python\\framework\\dtypes.py:525: FutureWarning: Passing (type, 1) or '1type' as a synonym of type is deprecated; in a future version of numpy, it will be understood as (type, (1,)) / '(1,)type'.\n",
      "  np_resource = np.dtype([(\"resource\", np.ubyte, 1)])\n",
      "c:\\users\\shubh\\appdata\\local\\programs\\python\\python37\\lib\\site-packages\\tensorboard\\compat\\tensorflow_stub\\dtypes.py:541: FutureWarning: Passing (type, 1) or '1type' as a synonym of type is deprecated; in a future version of numpy, it will be understood as (type, (1,)) / '(1,)type'.\n",
      "  _np_qint8 = np.dtype([(\"qint8\", np.int8, 1)])\n",
      "c:\\users\\shubh\\appdata\\local\\programs\\python\\python37\\lib\\site-packages\\tensorboard\\compat\\tensorflow_stub\\dtypes.py:542: FutureWarning: Passing (type, 1) or '1type' as a synonym of type is deprecated; in a future version of numpy, it will be understood as (type, (1,)) / '(1,)type'.\n",
      "  _np_quint8 = np.dtype([(\"quint8\", np.uint8, 1)])\n",
      "c:\\users\\shubh\\appdata\\local\\programs\\python\\python37\\lib\\site-packages\\tensorboard\\compat\\tensorflow_stub\\dtypes.py:543: FutureWarning: Passing (type, 1) or '1type' as a synonym of type is deprecated; in a future version of numpy, it will be understood as (type, (1,)) / '(1,)type'.\n",
      "  _np_qint16 = np.dtype([(\"qint16\", np.int16, 1)])\n",
      "c:\\users\\shubh\\appdata\\local\\programs\\python\\python37\\lib\\site-packages\\tensorboard\\compat\\tensorflow_stub\\dtypes.py:544: FutureWarning: Passing (type, 1) or '1type' as a synonym of type is deprecated; in a future version of numpy, it will be understood as (type, (1,)) / '(1,)type'.\n",
      "  _np_quint16 = np.dtype([(\"quint16\", np.uint16, 1)])\n",
      "c:\\users\\shubh\\appdata\\local\\programs\\python\\python37\\lib\\site-packages\\tensorboard\\compat\\tensorflow_stub\\dtypes.py:545: FutureWarning: Passing (type, 1) or '1type' as a synonym of type is deprecated; in a future version of numpy, it will be understood as (type, (1,)) / '(1,)type'.\n",
      "  _np_qint32 = np.dtype([(\"qint32\", np.int32, 1)])\n",
      "c:\\users\\shubh\\appdata\\local\\programs\\python\\python37\\lib\\site-packages\\tensorboard\\compat\\tensorflow_stub\\dtypes.py:550: FutureWarning: Passing (type, 1) or '1type' as a synonym of type is deprecated; in a future version of numpy, it will be understood as (type, (1,)) / '(1,)type'.\n",
      "  np_resource = np.dtype([(\"resource\", np.ubyte, 1)])\n"
     ]
    }
   ],
   "source": [
    "import tensorflow as tf\n",
    "import joblib\n",
    "\n",
    "\n",
    "def reset_graph(seed=42):\n",
    "    tf.reset_default_graph()\n",
    "    tf.set_random_seed(seed)\n",
    "    np.random.seed(seed)\n",
    "\n",
    "cfg = tf.ConfigProto(allow_soft_placement=True )\n",
    "cfg.gpu_options.allow_growth = True\n",
    "\n",
    "from tensorflow.layers import batch_normalization"
   ]
  },
  {
   "cell_type": "code",
   "execution_count": 2,
   "metadata": {},
   "outputs": [],
   "source": [
    "data = joblib.load(\"mnist_dataset.pkl\")"
   ]
  },
  {
   "cell_type": "code",
   "execution_count": 3,
   "metadata": {},
   "outputs": [],
   "source": [
    "data_X = data.data\n",
    "data_y = data.target\n",
    "\n",
    "import numpy as np\n",
    "def shuffle(data_x , data_y , test_ratio = 0.1):\n",
    "    shuffle_indices = np.random.permutation(data_x.shape[0])\n",
    "    test_indices = shuffle_indices[:int(test_ratio*len(shuffle_indices))]\n",
    "    train_indices = shuffle_indices[int(test_ratio*len(shuffle_indices)):]\n",
    "    train_x , train_y ,test_x , test_y = data_x[train_indices] , data_y[train_indices] , data_x[test_indices] ,data_y[test_indices]\n",
    "    return train_x , train_y , test_x ,test_y"
   ]
  },
  {
   "cell_type": "code",
   "execution_count": 4,
   "metadata": {},
   "outputs": [],
   "source": [
    "train_x , train_y ,test_x , test_y = shuffle(data_X , data_y)\n",
    "valid_x = test_x[:len(test_x)//2]\n",
    "valid_y = test_y[:len(test_y)//2]"
   ]
  },
  {
   "cell_type": "code",
   "execution_count": 5,
   "metadata": {},
   "outputs": [],
   "source": [
    "n_inputs = 784\n",
    "n_hidden1 = 300\n",
    "n_hidden2 = 100\n",
    "n_outputs = 10"
   ]
  },
  {
   "cell_type": "code",
   "execution_count": 6,
   "metadata": {},
   "outputs": [
    {
     "data": {
      "text/plain": [
       "TensorShape([Dimension(None)])"
      ]
     },
     "execution_count": 6,
     "metadata": {},
     "output_type": "execute_result"
    }
   ],
   "source": [
    "reset_graph()\n",
    "x = tf.placeholder(tf.float32 ,shape= (None , n_inputs) , name = \"x\")\n",
    "y = tf.placeholder(tf.int32 , shape = (None ,) , name =\"y\") \n",
    "\n",
    "training = tf.placeholder_with_default(False, shape=(), name='training')\n",
    "y.shape"
   ]
  },
  {
   "cell_type": "code",
   "execution_count": 7,
   "metadata": {},
   "outputs": [
    {
     "name": "stdout",
     "output_type": "stream",
     "text": [
      "WARNING:tensorflow:From <ipython-input-7-fc3cdc37ece9>:8: dense (from tensorflow.python.layers.core) is deprecated and will be removed in a future version.\n",
      "Instructions for updating:\n",
      "Use keras.layers.dense instead.\n",
      "WARNING:tensorflow:From c:\\users\\shubh\\appdata\\local\\programs\\python\\python37\\lib\\site-packages\\tensorflow\\python\\ops\\init_ops.py:1251: calling VarianceScaling.__init__ (from tensorflow.python.ops.init_ops) with dtype is deprecated and will be removed in a future version.\n",
      "Instructions for updating:\n",
      "Call initializer instance with the dtype argument instead of passing it to the constructor\n",
      "WARNING:tensorflow:From <ipython-input-7-fc3cdc37ece9>:9: batch_normalization (from tensorflow.python.layers.normalization) is deprecated and will be removed in a future version.\n",
      "Instructions for updating:\n",
      "Use keras.layers.BatchNormalization instead.  In particular, `tf.control_dependencies(tf.GraphKeys.UPDATE_OPS)` should not be used (consult the `tf.keras.layers.batch_normalization` documentation).\n"
     ]
    },
    {
     "data": {
      "text/plain": [
       "TensorShape([Dimension(None), Dimension(10)])"
      ]
     },
     "execution_count": 7,
     "metadata": {},
     "output_type": "execute_result"
    }
   ],
   "source": [
    "reset_graph()\n",
    "x = tf.placeholder(tf.float32 ,shape= (None , n_inputs) , name = \"x\")\n",
    "y = tf.placeholder(tf.int32 , shape = (None , ) , name =\"y\") \n",
    "\n",
    "training = tf.placeholder_with_default(False, shape=(), name='training')\n",
    "\n",
    "with tf.name_scope(\"hidden_layers\"):\n",
    "    hid_1 = tf.layers.dense(x , n_hidden1 , name = \"hidden1\")\n",
    "    batch_n1 = batch_normalization(hid_1 , training= training , momentum=0.9)\n",
    "    batch_n1_act = tf.nn.elu(batch_n1)\n",
    "    \n",
    "    hid_2 = tf.layers.dense(batch_n1_act , n_hidden2 , name = \"hidden2\")\n",
    "    batch_n2 = batch_normalization(hid_2 , training= training , momentum=0.9)\n",
    "    batch_n2_act = tf.nn.elu(batch_n2)\n",
    " \n",
    "    output = tf.layers.dense(batch_n2_act  , n_outputs , name = \"output\")\n",
    "    final_out = batch_normalization(output , training= training , momentum=0.9)\n",
    "    \n",
    "final_out.shape  "
   ]
  },
  {
   "cell_type": "code",
   "execution_count": 8,
   "metadata": {},
   "outputs": [],
   "source": [
    "# from functools import partial\n",
    "\n",
    "# my_batch_norm_layer = partial(tf.layers.batch_normalization,\n",
    "#                               training=training, momentum=0.9)\n",
    "\n",
    "# hidden1 = tf.layers.dense(x, n_hidden1, name=\"hidden1\")\n",
    "# bn1 = my_batch_norm_layer(hidden1)\n",
    "# bn1_act = tf.nn.elu(bn1)\n",
    "# hidden2 = tf.layers.dense(bn1_act, n_hidden2, name=\"hidden2\")\n",
    "# bn2 = my_batch_norm_layer(hidden2)\n",
    "# bn2_act = tf.nn.elu(bn2)\n",
    "# logits_before_bn = tf.layers.dense(bn2_act, n_outputs, name=\"outputs\")\n",
    "# logits = my_batch_norm_layer(logits_before_bn)"
   ]
  },
  {
   "cell_type": "code",
   "execution_count": 9,
   "metadata": {},
   "outputs": [],
   "source": [
    "with tf.name_scope(\"loss\"):\n",
    "    cross_entropy = tf.nn.sparse_softmax_cross_entropy_with_logits(labels=y, logits=final_out)\n",
    "    loss = tf.reduce_mean(cross_entropy)"
   ]
  },
  {
   "cell_type": "code",
   "execution_count": 10,
   "metadata": {},
   "outputs": [],
   "source": [
    "with tf.name_scope(\"training\"):\n",
    "    optimizer = tf.train.GradientDescentOptimizer(0.01)\n",
    "    training_op = optimizer.minimize(loss)"
   ]
  },
  {
   "cell_type": "code",
   "execution_count": 11,
   "metadata": {},
   "outputs": [],
   "source": [
    "with tf.name_scope(\"metrics\"):\n",
    "    correct = tf.nn.in_top_k(final_out , y , 1)\n",
    "    accuracy = tf.reduce_mean(tf.cast(correct , tf.float32))"
   ]
  },
  {
   "cell_type": "code",
   "execution_count": 12,
   "metadata": {},
   "outputs": [],
   "source": [
    "init = tf.global_variables_initializer()\n",
    "saver = tf.train.Saver()"
   ]
  },
  {
   "cell_type": "code",
   "execution_count": 13,
   "metadata": {},
   "outputs": [],
   "source": [
    "def shuffled_batch(x , y , shuffled=True ,batch_size = 100):\n",
    "    if shuffled:\n",
    "        n_batches = len(x)//batch_size\n",
    "        for batch_idx in np.array_split(np.arange(len(x)) , n_batches):\n",
    "            x_batch , y_batch = x[batch_idx] , y[batch_idx]\n",
    "            yield x_batch , y_batch\n",
    "    else:\n",
    "        \n",
    "        rnd_idx = np.random.permutation(len(x))\n",
    "        n_batches = len(x) // batch_size\n",
    "        for batch_idx in np.array_split(rnd_idx, n_batches):\n",
    "            x_batch, y_batch = x[batch_idx], y[batch_idx]\n",
    "            yield x_batch, y_batch"
   ]
  },
  {
   "cell_type": "code",
   "execution_count": 14,
   "metadata": {},
   "outputs": [
    {
     "name": "stdout",
     "output_type": "stream",
     "text": [
      "0 Validation accuracy: 0.90314287\n",
      "1 Validation accuracy: 0.9277143\n",
      "2 Validation accuracy: 0.9434286\n",
      "3 Validation accuracy: 0.9522857\n",
      "4 Validation accuracy: 0.958\n",
      "5 Validation accuracy: 0.9605714\n",
      "6 Validation accuracy: 0.96428573\n",
      "7 Validation accuracy: 0.9671429\n",
      "8 Validation accuracy: 0.97\n",
      "9 Validation accuracy: 0.97171426\n",
      "10 Validation accuracy: 0.97257143\n",
      "11 Validation accuracy: 0.974\n",
      "12 Validation accuracy: 0.974\n",
      "13 Validation accuracy: 0.97514284\n",
      "14 Validation accuracy: 0.9754286\n",
      "15 Validation accuracy: 0.97514284\n",
      "16 Validation accuracy: 0.97514284\n",
      "17 Validation accuracy: 0.97514284\n",
      "18 Validation accuracy: 0.97657144\n",
      "19 Validation accuracy: 0.9771429\n"
     ]
    }
   ],
   "source": [
    "n_epochs = 20\n",
    "batch_size = 200\n",
    "gpu_options = tf.GPUOptions(per_process_gpu_memory_fraction=0.9)\n",
    "\n",
    "extra_update_ops = tf.get_collection(tf.GraphKeys.UPDATE_OPS)\n",
    "\n",
    "with tf.Session(config=tf.ConfigProto(\n",
    "  allow_soft_placement=True, log_device_placement=True)) as sess:\n",
    "    init.run()\n",
    "    for epoch in range(n_epochs):\n",
    "        for X_batch, y_batch in shuffled_batch(train_x , train_y, batch_size):\n",
    "            sess.run([training_op, extra_update_ops],\n",
    "                     feed_dict={training: True, x: X_batch, y: y_batch})\n",
    "        accuracy_val = accuracy.eval(feed_dict={x: valid_x , y:valid_y})\n",
    "        print(epoch, \"Validation accuracy:\", accuracy_val)\n",
    "\n",
    "    save_path = saver.save(sess, \"./myfinal.ckpt\")"
   ]
  },
  {
   "cell_type": "code",
   "execution_count": null,
   "metadata": {},
   "outputs": [],
   "source": []
  }
 ],
 "metadata": {
  "kernelspec": {
   "display_name": "Python 3",
   "language": "python",
   "name": "python3"
  },
  "language_info": {
   "codemirror_mode": {
    "name": "ipython",
    "version": 3
   },
   "file_extension": ".py",
   "mimetype": "text/x-python",
   "name": "python",
   "nbconvert_exporter": "python",
   "pygments_lexer": "ipython3",
   "version": "3.7.4"
  }
 },
 "nbformat": 4,
 "nbformat_minor": 2
}
